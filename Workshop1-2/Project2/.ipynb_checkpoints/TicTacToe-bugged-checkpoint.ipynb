{
 "cells": [
  {
   "cell_type": "code",
   "execution_count": null,
   "metadata": {},
   "outputs": [],
   "source": [
    "board = [' _ ' for i in range(0,9)]"
   ]
  },
  {
   "cell_type": "code",
   "execution_count": null,
   "metadata": {},
   "outputs": [],
   "source": [
    "print(\"The starting board is:\")\n",
    "def printBoard():\n",
    "    print('')\n",
    "    print('|     |     |     |')\n",
    "    print('|', board[0], '|', board[1], '|', board[2], '|')\n",
    "    print('|     |     |     |')\n",
    "    print('|', board[3], '|', board[4], '|', board[5], '|')\n",
    "    print('|     |     |     |')\n",
    "    print('|', board[6], '|', board[7], '|', board[8], '|')\n",
    "    print('|     |     |     |')\n",
    "    print('')\n",
    "\n",
    "printBoard()"
   ]
  },
  {
   "cell_type": "code",
   "execution_count": null,
   "metadata": {},
   "outputs": [],
   "source": [
    "def check(pos):\n",
    "    if pos%3 == 0:\n",
    "        win = (board[0] == board[3] == board[6] == sign) or (board[pos] == board[pos+1] == board[pos+2] == sign) \n",
    "    elif pos%3 == 1:\n",
    "        win = (board[1] == board[4] == board[7] == sign) or (board[pos-1] == board[pos] == board[pos+1] == sign) \n",
    "    else:\n",
    "        win = (board[2] == board[5] == board[8] == sign) or (board[pos-2] == board[pos-1] == board[pos] == sign) \n",
    "    return win\n",
    "\n",
    "for i in range(0,9):\n",
    "    player = i%2\n",
    "    if player == 0:\n",
    "        value = int(input(\"Player 1, please enter an empty position from 0-8: \"))\n",
    "        while board[value] != ' _ ':\n",
    "            value = int(input(\"This position is taken, enter an empty position from 0-8: \"))\n",
    "        pos = value\n",
    "        sign = ' o '\n",
    "    if player == 1: \n",
    "        value = int(input(\"Player 2, please enter position from 0-8: \"))\n",
    "        while board[value] != ' _ ':\n",
    "            value = int(input(\"This position is taken, enter an empty position from 0-8: \"))\n",
    "        pos = value\n",
    "        sign = ' x '\n",
    "    board[pos] = sign\n",
    "    printBoard()\n",
    "    if check(pos):\n",
    "        print(\"Player \", player+1, \" wins!\")\n",
    "        break"
   ]
  },
  {
   "cell_type": "markdown",
   "metadata": {},
   "source": [
    "## Challenge 1\n",
    "This program has a bug. It is hard to catch it just by analyzing the code. Play the game a few times and make one of the two players win in different ways. You will catch the problem. Can you fix the bug?\n",
    "\n",
    "Don't worry if you cannot catch the bug. Compare the above program with the file TicTacToe.ipynb. You will see the bug fix."
   ]
  },
  {
   "cell_type": "markdown",
   "metadata": {},
   "source": [
    "## Challenge 2\n",
    "How would you handle draws? Modify the program so if the game ends in a draw, it prints \"It's a draw\". \n",
    "\n",
    "Hint: One way of implementing that would be an <code> if </code> statement to check if there is no winner after the last turn. So, this <code> if </code> statement should run outside the for loop. You might have to make one of the variables <code> global </code> to make it work."
   ]
  },
  {
   "cell_type": "markdown",
   "metadata": {},
   "source": [
    "## Challenge 3\n",
    "Build a console application from this game. \n",
    "\n",
    "After you have completed challenges 1 and 2 and tested your code, you can build a TicTacToe console game that directly runs on your computer (Windows or Mac) without using Jupyter notebooks or any other software.\n",
    "\n",
    "Here are the steps to achieve this: \n",
    "\n",
    "#### 0) Save the updated Jupyter notebook. Then from the File menu use Download As --> Python (.py). The TicTacToe.py file will be saved in your Downloads folder.  \n",
    "#### 1) Launch Acaconda, click on Environments. \n",
    "#### 2) Instead of 'Installed', select 'All' in the dropdown window. Anaconda will load all available Python packages. \n",
    "#### 3) Search for pyinstaller. \n",
    "#### 4) Check the box beside pyinstaller and click 'Apply' at the bottom to install the package.\n",
    "#### 5) (Windows:) Type cmd in the Start Menu search and launch Command Line. (Mac:) Search for Terminal in Launchpad and click it. \n",
    "#### 6) Type the following and enter (change directory to the Downloads folder): \n",
    "<code> cd Downloads </code>\n",
    "\n",
    "#### 7) Type and enter the following command: \n",
    "<code> pyinstaller TicTacToe.py --onefile </code>\n",
    "\n",
    "#### 8) <code> pyinstaller </code> will create the Windows/Mac application for you. It will be present in the Dist folder. You can delete all other files and folders generated. \n",
    "#### 9) Double click the TicTacToe.exe (or .exec) file to launch the game."
   ]
  }
 ],
 "metadata": {
  "kernelspec": {
   "display_name": "Python 3",
   "language": "python",
   "name": "python3"
  },
  "language_info": {
   "codemirror_mode": {
    "name": "ipython",
    "version": 3
   },
   "file_extension": ".py",
   "mimetype": "text/x-python",
   "name": "python",
   "nbconvert_exporter": "python",
   "pygments_lexer": "ipython3",
   "version": "3.7.6"
  }
 },
 "nbformat": 4,
 "nbformat_minor": 4
}
