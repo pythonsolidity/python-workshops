{
 "cells": [
  {
   "cell_type": "code",
   "execution_count": null,
   "metadata": {},
   "outputs": [],
   "source": [
    "# Parsing a text file for numerical data\n",
    "\n",
    "covid = open('COVID.txt')\n",
    "word_list = covid.read().split()\n",
    "print(word_list)"
   ]
  },
  {
   "cell_type": "code",
   "execution_count": null,
   "metadata": {},
   "outputs": [],
   "source": [
    "numbers = [int(x) for x in word_list if x.isdigit()]\n",
    "numbers.sort()\n",
    "print(numbers)"
   ]
  },
  {
   "cell_type": "markdown",
   "metadata": {},
   "source": [
    "## Challenge \n",
    "Can you modify this program so it works for any text file and not jus for COVID.txt? \n",
    "\n",
    "Change the program so it asks for the file name from you. This can be done using the <code> input() </code> method. \n",
    "\n",
    "The filename is entered as a <code> string </code> (for example, <code> \"file.txt\" </code>). The file should be present in the same folder as this Jupyter notebook, otherwise you will have to enter the full path to the file (for example, <code> \"../Desktop/file.txt\" </code>)."
   ]
  }
 ],
 "metadata": {
  "kernelspec": {
   "display_name": "Python 3",
   "language": "python",
   "name": "python3"
  },
  "language_info": {
   "codemirror_mode": {
    "name": "ipython",
    "version": 3
   },
   "file_extension": ".py",
   "mimetype": "text/x-python",
   "name": "python",
   "nbconvert_exporter": "python",
   "pygments_lexer": "ipython3",
   "version": "3.7.6"
  }
 },
 "nbformat": 4,
 "nbformat_minor": 4
}
