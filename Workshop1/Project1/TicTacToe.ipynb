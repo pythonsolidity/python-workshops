{
 "cells": [
  {
   "cell_type": "code",
   "execution_count": null,
   "metadata": {},
   "outputs": [],
   "source": [
    "board = [' _ ' for i in range(0,9)]"
   ]
  },
  {
   "cell_type": "code",
   "execution_count": null,
   "metadata": {},
   "outputs": [],
   "source": [
    "print(\"The starting board is:\")\n",
    "def printBoard():\n",
    "    print('')\n",
    "    print('|     |     |     |')\n",
    "    print('|', board[0], '|', board[1], '|', board[2], '|')\n",
    "    print('|     |     |     |')\n",
    "    print('|', board[3], '|', board[4], '|', board[5], '|')\n",
    "    print('|     |     |     |')\n",
    "    print('|', board[6], '|', board[7], '|', board[8], '|')\n",
    "    print('|     |     |     |')\n",
    "    print('')\n",
    "\n",
    "printBoard()"
   ]
  },
  {
   "cell_type": "code",
   "execution_count": null,
   "metadata": {},
   "outputs": [],
   "source": [
    "def check(n):\n",
    "    if pos%3 == 0:\n",
    "        win = (board[0] == board[3] == board[6] == sign) or (board[pos] == board[pos+1] == board[pos+2] == sign) or (board[0] == board[4] == board[8] == sign)  or (board[2] == board[4] == board[6] == sign)\n",
    "    elif pos%3 == 1:\n",
    "        win = (board[1] == board[4] == board[7] == sign) or (board[pos-1] == board[pos] == board[pos+1] == sign) or (board[0] == board[4] == board[8] == sign)  or (board[2] == board[4] == board[6] == sign)\n",
    "    else:\n",
    "        win = (board[2] == board[5] == board[8] == sign) or (board[pos-2] == board[pos-1] == board[pos] == sign) or (board[0] == board[4] == board[8] == sign)  or (board[2] == board[4] == board[6] == sign)\n",
    "    return win\n",
    "\n",
    "for i in range(0,9):\n",
    "    player = i%2\n",
    "    if player == 0:\n",
    "        value = int(input(\"Player 1, please enter an empty position from 0-8: \"))\n",
    "        while board[value] != ' _ ':\n",
    "            value = int(input(\"This position is taken, enter an empty position from 0-8: \"))\n",
    "        pos = value\n",
    "        sign = ' o '\n",
    "    if player == 1: \n",
    "        value = int(input(\"Player 2, please enter position from 0-8: \"))\n",
    "        while board[value] != ' _ ':\n",
    "            value = int(input(\"This position is taken, enter an empty position from 0-8: \"))\n",
    "        pos = value\n",
    "        sign = ' x '\n",
    "    board[pos] = sign\n",
    "    printBoard()\n",
    "    if check(pos):\n",
    "        print(\"Player \", player+1, \" wins!\")\n",
    "        break"
   ]
  },
  {
   "cell_type": "code",
   "execution_count": null,
   "metadata": {},
   "outputs": [],
   "source": []
  }
 ],
 "metadata": {
  "kernelspec": {
   "display_name": "Python 3",
   "language": "python",
   "name": "python3"
  },
  "language_info": {
   "codemirror_mode": {
    "name": "ipython",
    "version": 3
   },
   "file_extension": ".py",
   "mimetype": "text/x-python",
   "name": "python",
   "nbconvert_exporter": "python",
   "pygments_lexer": "ipython3",
   "version": "3.7.6"
  }
 },
 "nbformat": 4,
 "nbformat_minor": 4
}
